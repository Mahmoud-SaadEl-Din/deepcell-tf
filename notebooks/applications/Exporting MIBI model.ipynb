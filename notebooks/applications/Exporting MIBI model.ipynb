{
 "cells": [
  {
   "cell_type": "code",
   "execution_count": 1,
   "metadata": {},
   "outputs": [
    {
     "name": "stdout",
     "output_type": "stream",
     "text": [
      "WARNING:tensorflow:From /usr/local/lib/python3.6/dist-packages/tensorflow_core/python/ops/resource_variable_ops.py:1630: calling BaseResourceVariable.__init__ (from tensorflow.python.ops.resource_variable_ops) with constraint is deprecated and will be removed in a future version.\n",
      "Instructions for updating:\n",
      "If using Keras pass *_constraint arguments to layers.\n"
     ]
    },
    {
     "name": "stderr",
     "output_type": "stream",
     "text": [
      "/usr/local/lib/python3.6/dist-packages/deepcell/utils/__init__.py:49: UserWarning: To use `compute_overlap`, the C extensions must be built using `python setup.py build_ext --inplace`\n",
      "  warnings.warn('To use `compute_overlap`, the C extensions must be built '\n"
     ]
    }
   ],
   "source": [
    "from __future__ import absolute_import\n",
    "from __future__ import division\n",
    "from __future__ import print_function\n",
    "\n",
    "import os\n",
    "\n",
    "from tensorflow.python.keras.utils.data_utils import get_file\n",
    "from deepcell.applications import Application\n",
    "from deepcell.model_zoo import PanopticNet\n",
    "\n",
    "from deepcell.utils import export_model"
   ]
  },
  {
   "cell_type": "code",
   "execution_count": 6,
   "metadata": {},
   "outputs": [
    {
     "name": "stdout",
     "output_type": "stream",
     "text": [
      "A local file was found, but it seems to be incomplete or outdated because the md5 file hash does not match the original value of 66fec859eacc5222b5e7d2baa105f3e3 so we will re-download the data.\n",
      "Downloading data from https://deepcell-data.s3-us-west-1.amazonaws.com/model-weights/Multiplex_Segmentation_20200610_Adapt_Hist.h5\n",
      "313049088/313047700 [==============================] - 8s 0us/step\n"
     ]
    }
   ],
   "source": [
    "WEIGHTS_PATH = ('https://deepcell-data.s3-us-west-1.amazonaws.com/'\n",
    "                'model-weights/Multiplex_Segmentation_20200610_Adapt_Hist.h5')\n",
    "\n",
    "weights_path = get_file(\n",
    "    os.path.basename(WEIGHTS_PATH),\n",
    "    WEIGHTS_PATH,\n",
    "    cache_subdir='models',\n",
    "    md5_hash='66fec859eacc5222b5e7d2baa105f3e3'\n",
    ")\n",
    "\n",
    "model_image_shape=(256, 256, 2)\n",
    "\n",
    "model_save_path = '/images/models/MIBI'"
   ]
  },
  {
   "cell_type": "code",
   "execution_count": 7,
   "metadata": {},
   "outputs": [],
   "source": [
    "model = PanopticNet('resnet50',\n",
    "                            input_shape=model_image_shape,\n",
    "                            norm_method=None,\n",
    "                            num_semantic_heads=4,\n",
    "                            num_semantic_classes=[1, 1, 2, 3],\n",
    "                            location=True,\n",
    "                            include_top=True,\n",
    "                            use_imagenet=False)"
   ]
  },
  {
   "cell_type": "code",
   "execution_count": 8,
   "metadata": {},
   "outputs": [
    {
     "name": "stdout",
     "output_type": "stream",
     "text": [
      "INFO:tensorflow:No assets to save.\n",
      "INFO:tensorflow:No assets to write.\n",
      "INFO:tensorflow:SavedModel written to: /images/models/MIBI/0/saved_model.pb\n"
     ]
    }
   ],
   "source": [
    "export_model(model, model_save_path, model_version=0, weights_path=weights_path)"
   ]
  },
  {
   "cell_type": "code",
   "execution_count": null,
   "metadata": {},
   "outputs": [],
   "source": []
  },
  {
   "cell_type": "code",
   "execution_count": null,
   "metadata": {},
   "outputs": [],
   "source": []
  },
  {
   "cell_type": "code",
   "execution_count": null,
   "metadata": {},
   "outputs": [],
   "source": []
  },
  {
   "cell_type": "code",
   "execution_count": 5,
   "metadata": {},
   "outputs": [
    {
     "name": "stdout",
     "output_type": "stream",
     "text": [
      "Downloading data from https://deepcell-data.s3-us-west-1.amazonaws.com/model-weights/Multiplex_Segmentation_20200610_Adapt_Hist.h5\n",
      "313049088/313047700 [==============================] - 7s 0us/step\n"
     ]
    }
   ],
   "source": [
    "\n",
    "\n",
    "model.load_weights(weights_path)"
   ]
  },
  {
   "cell_type": "code",
   "execution_count": null,
   "metadata": {},
   "outputs": [],
   "source": []
  }
 ],
 "metadata": {
  "kernelspec": {
   "display_name": "Python 3",
   "language": "python",
   "name": "python3"
  },
  "language_info": {
   "codemirror_mode": {
    "name": "ipython",
    "version": 3
   },
   "file_extension": ".py",
   "mimetype": "text/x-python",
   "name": "python",
   "nbconvert_exporter": "python",
   "pygments_lexer": "ipython3",
   "version": "3.6.8"
  }
 },
 "nbformat": 4,
 "nbformat_minor": 2
}
